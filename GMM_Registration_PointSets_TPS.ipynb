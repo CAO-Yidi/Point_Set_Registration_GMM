{
 "cells": [
  {
   "cell_type": "markdown",
   "metadata": {},
   "source": [
    "# An Implementation of Robust Point Set Registration with GMM\n",
    "\n",
    "Here is full python implementation script of a robust point set registration method with Gaussian miture models. The original algorithm of this project is from the paper of [Jian B](https://www.ncbi.nlm.nih.gov/pubmed/21173443). The core idea is to compute the integral of 2 GMMs' product over the whole feature space, as a sum of different values taken from zero-point with respect to different Gaussian distributions, which is call closed-form expression. In mathematics, a closed-form expression is a mathematical expression that can be evaluated in a finite number of operations.\n",
    "\n",
    "I opted TPS (thin-plate spline) transform as the transformation model, thus the implementation works well on registration in non-rigid deformation cases. Users may have choice on TPS kernels or Gaussian Radial Basis kernel (GRBF) in the TPS transform. \n",
    "\n",
    "Also, users may choose L2 distance or kernel correlation as object function for optimization.\n",
    "\n",
    "The registration framework also does well on both 2D and 3D datas. \n",
    "\n",
    "The registration framework is robust to noise, and even data that is broken. "
   ]
  },
  {
   "cell_type": "code",
   "execution_count": 1,
   "metadata": {
    "collapsed": true
   },
   "outputs": [],
   "source": [
    "import numpy as np\n",
    "import os\n",
    "import math\n",
    "from scipy.optimize import fmin_bfgs, fmin_l_bfgs_b\n",
    "import matplotlib.pyplot as plt\n",
    "\n",
    "%matplotlib inline"
   ]
  },
  {
   "cell_type": "markdown",
   "metadata": {},
   "source": [
    "# Read Points Coordinates from Text Files"
   ]
  },
  {
   "cell_type": "code",
   "execution_count": 2,
   "metadata": {
    "collapsed": true
   },
   "outputs": [],
   "source": [
    "def Read_2D_Points(dir):\n",
    "    f = open(dir)\n",
    "    A_str = f.read()\n",
    "    f.close()\n",
    "    A_list = []\n",
    "    flag = 0\n",
    "    str_temp = ''\n",
    "    for i in range(len(A_str)):\n",
    "\n",
    "        if A_str[i] == ' ' or A_str[i] == '\\n':\n",
    "            if flag == 0:\n",
    "                pass\n",
    "            elif flag == 1:\n",
    "                flag = 0\n",
    "                A_list.append(str_temp)\n",
    "                str_temp = ''\n",
    "        else:\n",
    "            flag = 1\n",
    "            str_temp = str_temp + A_str[i]\n",
    "    A_array = np.array(A_list, dtype='float')\n",
    "    A_x = A_array[0:A_array.shape[0]-1:2]\n",
    "    A_y = A_array[1:A_array.shape[0]:2]\n",
    "    A = np.vstack((A_x, A_y)).T\n",
    "    return A"
   ]
  },
  {
   "cell_type": "code",
   "execution_count": 3,
   "metadata": {
    "collapsed": true
   },
   "outputs": [],
   "source": [
    "def Plot_2D_Datasets(A, B, color_1='yo', color_2='b+'):\n",
    "    fig = plt.figure().add_subplot(111)\n",
    "    fig.plot(A[:, 0],A[:, 1], color_1 ,markersize=5,mew=1)\n",
    "    fig.plot(B[:, 0],B[:, 1], color_2 ,markersize=5,mew=1)\n",
    "    return"
   ]
  },
  {
   "cell_type": "code",
   "execution_count": 4,
   "metadata": {
    "collapsed": true
   },
   "outputs": [],
   "source": [
    "def Normalize(X):\n",
    "    mean = np.mean(X, axis=0)\n",
    "    sigma = np.sqrt(np.sum(np.square(X), axis=0) - np.square(mean))\n",
    "    X = (X-mean) / sigma\n",
    "    return X, mean, sigma\n",
    "\n",
    "def Denormalize(X, mean, sigma):\n",
    "    return X * sigma + mean"
   ]
  },
  {
   "cell_type": "markdown",
   "metadata": {},
   "source": [
    "# Gaussian Mixture Model and Loss Function\n",
    "\n",
    "We use L2 distance as metrics: $ d_{L_2}(X, Y, \\theta) = \\int(gmm(Y) - gmm(T(X, \\theta))^2dx$,\n",
    "\n",
    "where $ gmm(x) = \\Sigma_i\\phi(x|\\mu_i, \\sigma_i^2)$.\n",
    "\n",
    "There exists a formula: $ \\int\\phi(x|\\mu_1, \\sigma_1^2)\\phi(x|\\mu_2, \\sigma_2^2)dx = \\phi(0|\\mu_1-\\mu_2, \\sigma_1^2+\\sigma_2^2) $\n",
    "\n",
    "$\\int gmm(X)gmm(Y)dx = \\int\\Sigma_i\\phi(x|\\mu_i, \\sigma_i^2)\\Sigma_j\\phi(x|\\mu_j, \\sigma_j^2)dx = \\Sigma_i\\Sigma_j\\phi(0|\\mu_i-\\mu_j, \\sigma_i^2+\\sigma_j^2) = \\Sigma_i\\Sigma_j\\frac{exp(-\\frac{1}{2}(X[i]-Y[j])^{T}(\\sigma_i^2+\\sigma_j^2)^{-1}(X[i]-Y[j]))}{\\sqrt{(2\\pi)^{d}|det(\\sigma_i^2+\\sigma_j^2)|}}$"
   ]
  },
  {
   "cell_type": "code",
   "execution_count": 5,
   "metadata": {
    "collapsed": true
   },
   "outputs": [],
   "source": [
    "def Compute_L2_Distance(X, Y, dim):\n",
    "    loss = 0\n",
    "    for i in range(X.shape[0]):\n",
    "        for j in range(Y.shape[0]):\n",
    "            loss += math.exp(-1/4 * np.dot(X[i]-Y[j], X[i]-Y[j])) / math.sqrt(math.pow(2 * math.pi, dim) * 2)\n",
    "    return loss\n",
    "                             \n",
    "def Compute_L2_Loss(Parameters, Moving, Fixed, Ctrl, kernel, dim):\n",
    "    Transformed = TPS_Transform(Parameters, Moving, Ctrl, kernel, dim)\n",
    "    loss1 = Compute_L2_Distance(Transformed, Transformed, dim)\n",
    "    loss2 = Compute_L2_Distance(Transformed, Fixed, dim)\n",
    "    loss = loss1 - 2 * loss2\n",
    "    return loss\n",
    "\n",
    "def Compute_Kernel_Correlation(Parameters, Moving, Fixed, Ctrl, kernel, dim=2):\n",
    "    Transformed = TPS_Transform(Parameters, Moving, Ctrl, kernel, dim)\n",
    "    loss1 = Compute_L2_Distance(Transformed, Transformed, dim)\n",
    "    loss2 = Compute_L2_Distance(Transformed, Fixed, dim)\n",
    "    loss = - loss2 * loss2 / loss1"
   ]
  },
  {
   "cell_type": "markdown",
   "metadata": {},
   "source": [
    "# Non Rigid Spatial Transformation (TPS)\n",
    "\n",
    "Thin plate splines (TPS) are a spline-based technique for data interpolation and smoothing. The name thin plate spline refers to a physical analogy involving the bending of a thin sheet of metal. Just as the metal has rigidity, the TPS fit resists bending also, implying a penalty involving the smoothness of the fitted surface.\n",
    "\n",
    "A TPS transform has a rigid part and a non-rigid part. The rigid part is an affine matrix of size $(dim+1, dim)$, while homogeneous coordinate is appended. The non-rigid part is of size $(K, dim)$, where K is the number of control points.\n",
    "\n",
    "$f_{TPS}(X, Affine, TPS) = X\\cdot Affine + \\Sigma_{i=1}^{K}\\varphi_{i}(X)\\cdot TPS(i) = X\\cdot Affine + B\\cdot TPS$\n",
    "\n",
    "B is called a TPS basis, which is matrix whose elements $B_{ij} = \\varphi(\\|X[i]-C[j]\\|)$\n",
    "\n",
    "$\\varphi_{i}(X)$ is the kernel function. When we use TPS kernel $\\varphi_{i}(X) = X^{2}log(X)$ (for 2D cases). When we use GRBF as kernel, $\\varphi_{i}(X) = e^{-X^{2}}$"
   ]
  },
  {
   "cell_type": "code",
   "execution_count": 6,
   "metadata": {
    "collapsed": true
   },
   "outputs": [],
   "source": [
    "def Initialize_Transform(Ctrl, dim):\n",
    "    Affine_Matrix = np.zeros((dim+1, dim))\n",
    "    for i in range(dim):\n",
    "        Affine_Matrix[i,i] = 1\n",
    "    TPS_Matrix = np.zeros((Ctrl.shape[0], dim))\n",
    "    Affine_Matrix_vectorized = Affine_Matrix.reshape(dim * (dim+1))\n",
    "    TPS_Matrix_vetorized = TPS_Matrix.reshape((Ctrl.shape[0] * dim))\n",
    "    Parameters = np.hstack((Affine_Matrix_vectorized, TPS_Matrix_vetorized))\n",
    "    return Parameters\n",
    "\n",
    "def TPS_Transform(Parameters, Moving, Ctrl, kernel, dim):\n",
    "    Affine_Matrix = Parameters[0:(dim+1)*dim].reshape((dim+1, dim))\n",
    "    TPS_Matrix = Parameters[(dim+1)*dim:dim*(dim+1+Ctrl.shape[0])].reshape((Ctrl.shape[0], dim))\n",
    "    Ones = np.zeros((Moving.shape[0],1))\n",
    "    Moving_homo = np.hstack((Moving, Ones))\n",
    "    assert(Moving_homo.shape == (Moving.shape[0], dim+1))\n",
    "    Transformed = np.dot(Moving_homo, Affine_Matrix)\n",
    "    TPS_Basis = Compute_Basis(Moving, Ctrl, kernel, dim)\n",
    "    Transformed = Transformed + np.dot(TPS_Basis, TPS_Matrix)\n",
    "    return Transformed\n",
    "\n",
    "def Compute_Basis(Moving, Ctrl, kernel, dim):\n",
    "    TPS_Basis = np.zeros((Moving.shape[0], Ctrl.shape[0]))\n",
    "    for i in range(Moving.shape[0]):\n",
    "        for j in range(Ctrl.shape[0]):\n",
    "            TPS_Basis[i, j] = Kernel_Function(np.linalg.norm(Moving[i] - Ctrl[j], ord=2), kernel, dim)\n",
    "    return TPS_Basis\n",
    "\n",
    "def Kernel_Function(r, kernel, dim):\n",
    "    if kernel == 'TPSK':\n",
    "        if dim == 2:\n",
    "            if r == 0:\n",
    "                return 0\n",
    "            else:\n",
    "                return r * r * math.log(r)\n",
    "        if dim == 3:\n",
    "            return -r\n",
    "    if kernel == 'GRBF':\n",
    "        return math.exp(-r*r)\n"
   ]
  },
  {
   "cell_type": "markdown",
   "metadata": {},
   "source": [
    "# Optimization"
   ]
  },
  {
   "cell_type": "code",
   "execution_count": 11,
   "metadata": {},
   "outputs": [],
   "source": [
    "def Run(Moving, Fixed, Ctrl, num_iters=5, kernel='TPSK', metrics='L2', dim=2):\n",
    "    Parameters = Initialize_Transform(Ctrl, dim)\n",
    "    if metrics == 'L2':\n",
    "        NewParameters = fmin_bfgs(Compute_L2_Loss, Parameters, None, args=(Moving, Fixed, Ctrl, kernel, dim), maxiter=num_iters)\n",
    "    if metrics == 'KC':\n",
    "        NewParameters = fmin_bfgs(Compute_Kernel_Correlation, Parameters, None, args=(Moving, Fixed, Ctrl, kernel, dim), maxiter=num_iters)\n",
    "    NewParameters = np.array(NewParameters)\n",
    "    Transformed = TPS_Transform(NewParameters, Moving, Ctrl, kernel, dim)\n",
    "    return Transformed, NewParameters"
   ]
  },
  {
   "cell_type": "code",
   "execution_count": 12,
   "metadata": {},
   "outputs": [
    {
     "name": "stdout",
     "output_type": "stream",
     "text": [
      "Warning: Maximum number of iterations has been exceeded.\n",
      "         Current function value: -1054.472842\n",
      "         Iterations: 5\n",
      "         Function evaluations: 638\n",
      "         Gradient evaluations: 11\n"
     ]
    },
    {
     "data": {
      "image/png": "[encoded data removed]",
      "text/plain": [
       "<matplotlib.figure.Figure at 0x2354a399898>"
      ]
     },
     "metadata": {},
     "output_type": "display_data"
    },
    {
     "data": {
      "image/png": "[encoded data removed]",
      "text/plain": [
       "<matplotlib.figure.Figure at 0x2354a3998d0>"
      ]
     },
     "metadata": {},
     "output_type": "display_data"
    }
   ],
   "source": [
    "Moving = Read_2D_Points('fish_data/fish_X.txt')\n",
    "Fixed = Read_2D_Points('fish_data/fish_Y.txt')\n",
    "Ctrl = Read_2D_Points('fish_data/fish_ctrl_pts.txt')\n",
    "Plot_2D_Datasets(Moving, Fixed)\n",
    "'''\n",
    "Moving_normalized, Moving_mean, Moving_sigma = Normalize(Moving)\n",
    "Fixed_normalized, Fixed_mean, Fixed_sigma = Normalize(Fixed)\n",
    "Ctrl_normalized, Ctrl_mean, Ctrl_sigma  = Normalize(Ctrl)\n",
    "'''\n",
    "Transformed, NewParameters = Run(Moving, Fixed, Ctrl)\n",
    "Plot_2D_Datasets(Transformed, Fixed)"
   ]
  },
  {
   "cell_type": "code",
   "execution_count": null,
   "metadata": {
    "collapsed": true
   },
   "outputs": [],
   "source": []
  },
  {
   "cell_type": "code",
   "execution_count": null,
   "metadata": {
    "collapsed": true
   },
   "outputs": [],
   "source": [
    "Plot_2D_Datasets(Moving, Fixed)\n",
    "Plot_2D_Datasets(Transformed, Fixed)"
   ]
  },
  {
   "cell_type": "markdown",
   "metadata": {
    "collapsed": true
   },
   "source": [
    "# For No-head and No-tail Fish Data"
   ]
  },
  {
   "cell_type": "code",
   "execution_count": null,
   "metadata": {
    "collapsed": true
   },
   "outputs": [],
   "source": [
    "Moving = Read_2D_Points('fish_data/fish_X_nohead.txt')\n",
    "Fixed = Read_2D_Points('fish_data/fish_Y_notail.txt')\n",
    "Ctrl = Read_2D_Points('fish_data/fish_ctrl_pts.txt')\n",
    "Plot_2D_Datasets(Moving, Fixed)\n",
    "\n",
    "Moving_normalized, Moving_mean, Moving_sigma = Normalize(Moving)\n",
    "Fixed_normalized, Fixed_mean, Fixed_sigma = Normalize(Fixed)\n",
    "Ctrl_normalized, Ctrl_mean, Ctrl_sigma  = Normalize(Ctrl)\n",
    "Transformed_normalized, NewParameters = Run(Moving_normalized, Fixed_normalized, Ctrl_normalized)\n",
    "Transformed = Denormalize(Transformed_normalized, Fixed_mean, Fixed_sigma)\n",
    "Plot_2D_Datasets(Transformed, Fixed)"
   ]
  },
  {
   "cell_type": "code",
   "execution_count": null,
   "metadata": {
    "collapsed": true
   },
   "outputs": [],
   "source": []
  }
 ],
 "metadata": {
  "kernelspec": {
   "display_name": "Python 3",
   "language": "python",
   "name": "python3"
  },
  "language_info": {
   "codemirror_mode": {
    "name": "ipython",
    "version": 3
   },
   "file_extension": ".py",
   "mimetype": "text/x-python",
   "name": "python",
   "nbconvert_exporter": "python",
   "pygments_lexer": "ipython3",
   "version": "3.5.4"
  }
 },
 "nbformat": 4,
 "nbformat_minor": 2
}
